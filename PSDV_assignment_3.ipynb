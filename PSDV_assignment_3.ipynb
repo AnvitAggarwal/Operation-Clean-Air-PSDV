{
 "cells": [
  {
   "cell_type": "code",
   "execution_count": 1,
   "id": "b2018732-f4cf-4e99-8a6a-78535c6a1126",
   "metadata": {},
   "outputs": [],
   "source": [
    "import pandas as pd\n",
    "import numpy as np\n",
    "import seaborn as sns\n",
    "import scipy\n",
    "import matplotlib.pyplot as plt"
   ]
  },
  {
   "cell_type": "code",
   "execution_count": 2,
   "id": "5213edcf-24f5-46e9-bfa6-6aa06f74a446",
   "metadata": {},
   "outputs": [
    {
     "data": {
      "text/html": [
       "<div>\n",
       "<style scoped>\n",
       "    .dataframe tbody tr th:only-of-type {\n",
       "        vertical-align: middle;\n",
       "    }\n",
       "\n",
       "    .dataframe tbody tr th {\n",
       "        vertical-align: top;\n",
       "    }\n",
       "\n",
       "    .dataframe thead th {\n",
       "        text-align: right;\n",
       "    }\n",
       "</style>\n",
       "<table border=\"1\" class=\"dataframe\">\n",
       "  <thead>\n",
       "    <tr style=\"text-align: right;\">\n",
       "      <th></th>\n",
       "      <th>Timestamp</th>\n",
       "      <th>station</th>\n",
       "      <th>PM2.5</th>\n",
       "      <th>PM10</th>\n",
       "      <th>address</th>\n",
       "      <th>city</th>\n",
       "      <th>latitude</th>\n",
       "      <th>longitude</th>\n",
       "      <th>state</th>\n",
       "    </tr>\n",
       "  </thead>\n",
       "  <tbody>\n",
       "    <tr>\n",
       "      <th>0</th>\n",
       "      <td>2017-01-01</td>\n",
       "      <td>32Bungalows, Bhilai - CECB</td>\n",
       "      <td>NaN</td>\n",
       "      <td>NaN</td>\n",
       "      <td>Bhilai RO Office, 5, 32 Bungalows, Bhilai, Dis...</td>\n",
       "      <td>Bhilai</td>\n",
       "      <td>21.194815</td>\n",
       "      <td>81.314770</td>\n",
       "      <td>Chhattisgarh</td>\n",
       "    </tr>\n",
       "    <tr>\n",
       "      <th>1</th>\n",
       "      <td>2017-01-01</td>\n",
       "      <td>AIIMS, Raipur - CECB</td>\n",
       "      <td>NaN</td>\n",
       "      <td>NaN</td>\n",
       "      <td>All India Institute Of Medical Science, Gate N...</td>\n",
       "      <td>Raipur</td>\n",
       "      <td>21.258815</td>\n",
       "      <td>81.578979</td>\n",
       "      <td>Chhattisgarh</td>\n",
       "    </tr>\n",
       "    <tr>\n",
       "      <th>2</th>\n",
       "      <td>2017-01-01</td>\n",
       "      <td>Adarsh Nagar, Jaipur - RSPCB</td>\n",
       "      <td>NaN</td>\n",
       "      <td>NaN</td>\n",
       "      <td>Psychiatric Centre, Janta Colony, Govind Marg,...</td>\n",
       "      <td>Jaipur</td>\n",
       "      <td>26.902909</td>\n",
       "      <td>75.836858</td>\n",
       "      <td>Rajasthan</td>\n",
       "    </tr>\n",
       "    <tr>\n",
       "      <th>3</th>\n",
       "      <td>2017-01-01</td>\n",
       "      <td>Airoli, Navi Mumbai - MPCB</td>\n",
       "      <td>NaN</td>\n",
       "      <td>54.743723</td>\n",
       "      <td>NaN</td>\n",
       "      <td>Navi Mumbai</td>\n",
       "      <td>19.149400</td>\n",
       "      <td>72.998600</td>\n",
       "      <td>Maharashtra</td>\n",
       "    </tr>\n",
       "    <tr>\n",
       "      <th>4</th>\n",
       "      <td>2017-01-01</td>\n",
       "      <td>Airport Area, Indore - IMC</td>\n",
       "      <td>NaN</td>\n",
       "      <td>NaN</td>\n",
       "      <td>NaN</td>\n",
       "      <td>NaN</td>\n",
       "      <td>NaN</td>\n",
       "      <td>NaN</td>\n",
       "      <td>NaN</td>\n",
       "    </tr>\n",
       "  </tbody>\n",
       "</table>\n",
       "</div>"
      ],
      "text/plain": [
       "    Timestamp                       station  PM2.5       PM10  \\\n",
       "0  2017-01-01    32Bungalows, Bhilai - CECB    NaN        NaN   \n",
       "1  2017-01-01          AIIMS, Raipur - CECB    NaN        NaN   \n",
       "2  2017-01-01  Adarsh Nagar, Jaipur - RSPCB    NaN        NaN   \n",
       "3  2017-01-01    Airoli, Navi Mumbai - MPCB    NaN  54.743723   \n",
       "4  2017-01-01    Airport Area, Indore - IMC    NaN        NaN   \n",
       "\n",
       "                                             address         city   latitude  \\\n",
       "0  Bhilai RO Office, 5, 32 Bungalows, Bhilai, Dis...       Bhilai  21.194815   \n",
       "1  All India Institute Of Medical Science, Gate N...       Raipur  21.258815   \n",
       "2  Psychiatric Centre, Janta Colony, Govind Marg,...       Jaipur  26.902909   \n",
       "3                                                NaN  Navi Mumbai  19.149400   \n",
       "4                                                NaN          NaN        NaN   \n",
       "\n",
       "   longitude         state  \n",
       "0  81.314770  Chhattisgarh  \n",
       "1  81.578979  Chhattisgarh  \n",
       "2  75.836858     Rajasthan  \n",
       "3  72.998600   Maharashtra  \n",
       "4        NaN           NaN  "
      ]
     },
     "execution_count": 2,
     "metadata": {},
     "output_type": "execute_result"
    }
   ],
   "source": [
    "aq_df = pd.read_csv('Data.csv')\n",
    "aq_df.head()"
   ]
  },
  {
   "cell_type": "markdown",
   "id": "92906752-1e94-4561-8d2a-22d5c8799dd9",
   "metadata": {},
   "source": [
    "#1.\n",
    "NaN values are ignored automatically while using .mean()"
   ]
  },
  {
   "cell_type": "code",
   "execution_count": 29,
   "id": "9d151377-dc0b-4f50-b55a-b26872236ca0",
   "metadata": {},
   "outputs": [
    {
     "data": {
      "text/plain": [
       "state\n",
       "Andhra Pradesh        35.049347\n",
       "Arunachal Pradesh     22.674513\n",
       "Assam                 57.962372\n",
       "Bihar                 76.918759\n",
       "Chandigarh            56.666803\n",
       "Chhattisgarh          28.761571\n",
       "Delhi                104.100918\n",
       "Gujarat               52.462657\n",
       "Haryana               72.371070\n",
       "Himachal Pradesh      62.516878\n",
       "Jammu and Kashmir     28.574696\n",
       "Jharkhand             54.281545\n",
       "Karnataka             28.894840\n",
       "Kerala                29.404793\n",
       "Madhya Pradesh        45.874375\n",
       "Maharashtra           43.491415\n",
       "Manipur               34.911856\n",
       "Meghalaya             24.513390\n",
       "Mizoram               11.784922\n",
       "Nagaland              33.439550\n",
       "Odisha                52.109504\n",
       "Puducherry            22.854171\n",
       "Punjab                52.243166\n",
       "Rajasthan             54.230341\n",
       "Sikkim                13.474286\n",
       "Tamil Nadu            31.289620\n",
       "Telangana             38.114469\n",
       "Tripura               57.927642\n",
       "Uttar Pradesh         70.893996\n",
       "Uttarakhand           36.788767\n",
       "West Bengal           54.611086\n",
       "Name: PM2.5, dtype: float64"
      ]
     },
     "metadata": {},
     "output_type": "display_data"
    }
   ],
   "source": [
    "grouped = aq_df.groupby('state', observed = True)['PM2.5']\n",
    "display(grouped.mean())"
   ]
  },
  {
   "cell_type": "code",
   "execution_count": 30,
   "id": "44807a43-32b8-4351-8fd1-a8c47f4ced73",
   "metadata": {},
   "outputs": [
    {
     "data": {
      "text/plain": [
       "'Delhi'"
      ]
     },
     "metadata": {},
     "output_type": "display_data"
    }
   ],
   "source": [
    "display(grouped.mean().idxmax())"
   ]
  },
  {
   "cell_type": "markdown",
   "id": "7909b004-5768-4f98-84bc-70d6e0deeec3",
   "metadata": {},
   "source": [
    "Thus, Delhi has the highest average PM2.5 level across all years and all stations with 104.100918."
   ]
  },
  {
   "cell_type": "code",
   "execution_count": 13,
   "id": "e14e868d-22ad-419e-85da-737ae050e756",
   "metadata": {},
   "outputs": [
    {
     "data": {
      "text/html": [
       "<div>\n",
       "<style scoped>\n",
       "    .dataframe tbody tr th:only-of-type {\n",
       "        vertical-align: middle;\n",
       "    }\n",
       "\n",
       "    .dataframe tbody tr th {\n",
       "        vertical-align: top;\n",
       "    }\n",
       "\n",
       "    .dataframe thead th {\n",
       "        text-align: right;\n",
       "    }\n",
       "</style>\n",
       "<table border=\"1\" class=\"dataframe\">\n",
       "  <thead>\n",
       "    <tr style=\"text-align: right;\">\n",
       "      <th></th>\n",
       "      <th>Timestamp</th>\n",
       "      <th>station</th>\n",
       "      <th>PM2.5</th>\n",
       "      <th>PM10</th>\n",
       "      <th>address</th>\n",
       "      <th>city</th>\n",
       "      <th>latitude</th>\n",
       "      <th>longitude</th>\n",
       "      <th>state</th>\n",
       "    </tr>\n",
       "  </thead>\n",
       "  <tbody>\n",
       "    <tr>\n",
       "      <th>1229151</th>\n",
       "      <td>2023-01-01</td>\n",
       "      <td>32Bungalows, Bhilai - CECB</td>\n",
       "      <td>NaN</td>\n",
       "      <td>NaN</td>\n",
       "      <td>Bhilai RO Office, 5, 32 Bungalows, Bhilai, Dis...</td>\n",
       "      <td>Bhilai</td>\n",
       "      <td>21.194815</td>\n",
       "      <td>81.314770</td>\n",
       "      <td>Chhattisgarh</td>\n",
       "    </tr>\n",
       "    <tr>\n",
       "      <th>1229152</th>\n",
       "      <td>2023-01-01</td>\n",
       "      <td>AIIMS, Raipur - CECB</td>\n",
       "      <td>NaN</td>\n",
       "      <td>NaN</td>\n",
       "      <td>All India Institute Of Medical Science, Gate N...</td>\n",
       "      <td>Raipur</td>\n",
       "      <td>21.258815</td>\n",
       "      <td>81.578979</td>\n",
       "      <td>Chhattisgarh</td>\n",
       "    </tr>\n",
       "    <tr>\n",
       "      <th>1229153</th>\n",
       "      <td>2023-01-01</td>\n",
       "      <td>Adarsh Nagar, Jaipur - RSPCB</td>\n",
       "      <td>52.502842</td>\n",
       "      <td>85.579053</td>\n",
       "      <td>Psychiatric Centre, Janta Colony, Govind Marg,...</td>\n",
       "      <td>Jaipur</td>\n",
       "      <td>26.902909</td>\n",
       "      <td>75.836858</td>\n",
       "      <td>Rajasthan</td>\n",
       "    </tr>\n",
       "    <tr>\n",
       "      <th>1229154</th>\n",
       "      <td>2023-01-01</td>\n",
       "      <td>Airoli, Navi Mumbai - MPCB</td>\n",
       "      <td>NaN</td>\n",
       "      <td>NaN</td>\n",
       "      <td>NaN</td>\n",
       "      <td>Navi Mumbai</td>\n",
       "      <td>19.149400</td>\n",
       "      <td>72.998600</td>\n",
       "      <td>Maharashtra</td>\n",
       "    </tr>\n",
       "    <tr>\n",
       "      <th>1229155</th>\n",
       "      <td>2023-01-01</td>\n",
       "      <td>Airport Area, Indore - IMC</td>\n",
       "      <td>NaN</td>\n",
       "      <td>NaN</td>\n",
       "      <td>NaN</td>\n",
       "      <td>NaN</td>\n",
       "      <td>NaN</td>\n",
       "      <td>NaN</td>\n",
       "      <td>NaN</td>\n",
       "    </tr>\n",
       "    <tr>\n",
       "      <th>...</th>\n",
       "      <td>...</td>\n",
       "      <td>...</td>\n",
       "      <td>...</td>\n",
       "      <td>...</td>\n",
       "      <td>...</td>\n",
       "      <td>...</td>\n",
       "      <td>...</td>\n",
       "      <td>...</td>\n",
       "      <td>...</td>\n",
       "    </tr>\n",
       "    <tr>\n",
       "      <th>1433911</th>\n",
       "      <td>2023-12-31</td>\n",
       "      <td>Worli, Mumbai - MPCB</td>\n",
       "      <td>47.100625</td>\n",
       "      <td>136.581481</td>\n",
       "      <td>89-B, NEERI Building, Dr. Annie Besant Road, W...</td>\n",
       "      <td>Mumbai</td>\n",
       "      <td>18.993616</td>\n",
       "      <td>72.812811</td>\n",
       "      <td>Maharashtra</td>\n",
       "    </tr>\n",
       "    <tr>\n",
       "      <th>1433912</th>\n",
       "      <td>2023-12-31</td>\n",
       "      <td>Yamunapuram, Bulandshahr - UPPCB</td>\n",
       "      <td>67.694737</td>\n",
       "      <td>127.273684</td>\n",
       "      <td>F-5, Yamunapuram, Bulandshahr, Near MMR Mall (...</td>\n",
       "      <td>Bulandshahr</td>\n",
       "      <td>28.406963</td>\n",
       "      <td>77.849831</td>\n",
       "      <td>Uttar Pradesh</td>\n",
       "    </tr>\n",
       "    <tr>\n",
       "      <th>1433913</th>\n",
       "      <td>2023-12-31</td>\n",
       "      <td>Yerramukkapalli, Kadapa - APPCB</td>\n",
       "      <td>NaN</td>\n",
       "      <td>NaN</td>\n",
       "      <td>Municipal Corporation Office Complex, Railway ...</td>\n",
       "      <td>Kadapa</td>\n",
       "      <td>14.465052</td>\n",
       "      <td>78.824187</td>\n",
       "      <td>Andhra Pradesh</td>\n",
       "    </tr>\n",
       "    <tr>\n",
       "      <th>1433914</th>\n",
       "      <td>2023-12-31</td>\n",
       "      <td>Zero Point GICI, Gangtok - SSPCB</td>\n",
       "      <td>10.938437</td>\n",
       "      <td>25.018125</td>\n",
       "      <td>Near State PWD Office, Zero Point, Gangtok, Si...</td>\n",
       "      <td>Gangtok</td>\n",
       "      <td>27.338530</td>\n",
       "      <td>88.614099</td>\n",
       "      <td>Sikkim</td>\n",
       "    </tr>\n",
       "    <tr>\n",
       "      <th>1433915</th>\n",
       "      <td>2023-12-31</td>\n",
       "      <td>Zoo Park, Hyderabad - TSPCB</td>\n",
       "      <td>60.600000</td>\n",
       "      <td>99.768421</td>\n",
       "      <td>NaN</td>\n",
       "      <td>Hyderabad</td>\n",
       "      <td>17.349694</td>\n",
       "      <td>78.451437</td>\n",
       "      <td>Telangana</td>\n",
       "    </tr>\n",
       "  </tbody>\n",
       "</table>\n",
       "<p>204765 rows × 9 columns</p>\n",
       "</div>"
      ],
      "text/plain": [
       "         Timestamp                           station      PM2.5        PM10  \\\n",
       "1229151 2023-01-01        32Bungalows, Bhilai - CECB        NaN         NaN   \n",
       "1229152 2023-01-01              AIIMS, Raipur - CECB        NaN         NaN   \n",
       "1229153 2023-01-01      Adarsh Nagar, Jaipur - RSPCB  52.502842   85.579053   \n",
       "1229154 2023-01-01        Airoli, Navi Mumbai - MPCB        NaN         NaN   \n",
       "1229155 2023-01-01        Airport Area, Indore - IMC        NaN         NaN   \n",
       "...            ...                               ...        ...         ...   \n",
       "1433911 2023-12-31              Worli, Mumbai - MPCB  47.100625  136.581481   \n",
       "1433912 2023-12-31  Yamunapuram, Bulandshahr - UPPCB  67.694737  127.273684   \n",
       "1433913 2023-12-31   Yerramukkapalli, Kadapa - APPCB        NaN         NaN   \n",
       "1433914 2023-12-31  Zero Point GICI, Gangtok - SSPCB  10.938437   25.018125   \n",
       "1433915 2023-12-31       Zoo Park, Hyderabad - TSPCB  60.600000   99.768421   \n",
       "\n",
       "                                                   address         city  \\\n",
       "1229151  Bhilai RO Office, 5, 32 Bungalows, Bhilai, Dis...       Bhilai   \n",
       "1229152  All India Institute Of Medical Science, Gate N...       Raipur   \n",
       "1229153  Psychiatric Centre, Janta Colony, Govind Marg,...       Jaipur   \n",
       "1229154                                                NaN  Navi Mumbai   \n",
       "1229155                                                NaN          NaN   \n",
       "...                                                    ...          ...   \n",
       "1433911  89-B, NEERI Building, Dr. Annie Besant Road, W...       Mumbai   \n",
       "1433912  F-5, Yamunapuram, Bulandshahr, Near MMR Mall (...  Bulandshahr   \n",
       "1433913  Municipal Corporation Office Complex, Railway ...       Kadapa   \n",
       "1433914  Near State PWD Office, Zero Point, Gangtok, Si...      Gangtok   \n",
       "1433915                                                NaN    Hyderabad   \n",
       "\n",
       "          latitude  longitude           state  \n",
       "1229151  21.194815  81.314770    Chhattisgarh  \n",
       "1229152  21.258815  81.578979    Chhattisgarh  \n",
       "1229153  26.902909  75.836858       Rajasthan  \n",
       "1229154  19.149400  72.998600     Maharashtra  \n",
       "1229155        NaN        NaN             NaN  \n",
       "...            ...        ...             ...  \n",
       "1433911  18.993616  72.812811     Maharashtra  \n",
       "1433912  28.406963  77.849831   Uttar Pradesh  \n",
       "1433913  14.465052  78.824187  Andhra Pradesh  \n",
       "1433914  27.338530  88.614099          Sikkim  \n",
       "1433915  17.349694  78.451437       Telangana  \n",
       "\n",
       "[204765 rows x 9 columns]"
      ]
     },
     "metadata": {},
     "output_type": "display_data"
    }
   ],
   "source": [
    "#2.\n",
    "aq_df['Timestamp'] = pd.to_datetime(aq_df['Timestamp'])\n",
    "display(aq_df.loc[aq_df['Timestamp'].dt.year == 2023])"
   ]
  },
  {
   "cell_type": "code",
   "execution_count": 33,
   "id": "7f4b799f-8a70-426a-b75f-d51c5b4a6f81",
   "metadata": {},
   "outputs": [
    {
     "data": {
      "text/plain": [
       "state\n",
       "Andhra Pradesh     2\n",
       "Assam             21\n",
       "Bihar             47\n",
       "Delhi             49\n",
       "Gujarat            4\n",
       "Haryana           21\n",
       "Jharkhand          1\n",
       "Karnataka         14\n",
       "Madhya Pradesh     8\n",
       "Maharashtra       30\n",
       "Odisha             1\n",
       "Rajasthan         14\n",
       "Tamil Nadu         3\n",
       "Telangana          1\n",
       "Tripura            1\n",
       "Uttar Pradesh     24\n",
       "Name: Timestamp, dtype: int64"
      ]
     },
     "execution_count": 33,
     "metadata": {},
     "output_type": "execute_result"
    }
   ],
   "source": [
    "aq_df.loc[(aq_df['Timestamp'].dt.year == 2023) & (aq_df['PM2.5'] > 300)].groupby('state', observed = True)['Timestamp'].nunique()"
   ]
  },
  {
   "cell_type": "code",
   "execution_count": 34,
   "id": "d5b6d795-5800-41f0-8474-727c6e4ffc21",
   "metadata": {},
   "outputs": [
    {
     "data": {
      "text/plain": [
       "'Delhi'"
      ]
     },
     "execution_count": 34,
     "metadata": {},
     "output_type": "execute_result"
    }
   ],
   "source": [
    "aq_df.loc[(aq_df['Timestamp'].dt.year == 2023) & (aq_df['PM2.5'] > 300)].groupby('state', observed = True)['Timestamp'].nunique().idxmax()"
   ]
  },
  {
   "cell_type": "markdown",
   "id": "8f5521f8-b721-4553-b9e0-6b846166cd2c",
   "metadata": {},
   "source": [
    "Thus, Delhi has had the most number of days with higher than 300 micrograms/m^3 of PM2.5 levels in 2023 with 49 such days."
   ]
  },
  {
   "cell_type": "code",
   "execution_count": 26,
   "id": "d379a2c5-c584-40f7-840f-083a0b86998b",
   "metadata": {},
   "outputs": [
    {
     "data": {
      "text/plain": [
       "state\n",
       "Andhra Pradesh       26.470621\n",
       "Arunachal Pradesh    10.486218\n",
       "Assam                61.501105\n",
       "Bihar                63.734196\n",
       "Chandigarh           37.715544\n",
       "Chhattisgarh         20.076441\n",
       "Delhi                82.797106\n",
       "Gujarat              33.210780\n",
       "Haryana              52.534649\n",
       "Himachal Pradesh     45.573949\n",
       "Jammu and Kashmir    17.571078\n",
       "Jharkhand            40.211922\n",
       "Karnataka            26.745988\n",
       "Kerala               17.071595\n",
       "Madhya Pradesh       40.026787\n",
       "Maharashtra          39.960771\n",
       "Manipur              31.033988\n",
       "Meghalaya            22.994036\n",
       "Mizoram               8.181937\n",
       "Nagaland             20.281620\n",
       "Odisha               36.130086\n",
       "Puducherry           15.927181\n",
       "Punjab               33.583028\n",
       "Rajasthan            39.929352\n",
       "Sikkim               19.351219\n",
       "Tamil Nadu           22.017688\n",
       "Telangana            18.842444\n",
       "Tripura              46.884462\n",
       "Uttar Pradesh        45.749190\n",
       "Uttarakhand          20.194756\n",
       "West Bengal          34.347047\n",
       "Name: PM2.5, dtype: float64"
      ]
     },
     "execution_count": 26,
     "metadata": {},
     "output_type": "execute_result"
    }
   ],
   "source": [
    "#3.\n",
    "aq_df.loc[(aq_df['Timestamp'].dt.year == 2023)].groupby('state', observed = True)['PM2.5'].std()"
   ]
  },
  {
   "cell_type": "code",
   "execution_count": 28,
   "id": "fd0a070a-7fd5-4caa-9177-a5e278db2c49",
   "metadata": {},
   "outputs": [
    {
     "data": {
      "text/plain": [
       "'Delhi'"
      ]
     },
     "execution_count": 28,
     "metadata": {},
     "output_type": "execute_result"
    }
   ],
   "source": [
    "aq_df.loc[(aq_df['Timestamp'].dt.year == 2023)].groupby('state', observed = True)['PM2.5'].std().idxmax()"
   ]
  },
  {
   "cell_type": "markdown",
   "id": "5210b1ee-379d-4fb4-b80f-8fb780ea2dca",
   "metadata": {},
   "source": [
    "Yet again, we have Delhi at the top of the list. This time for most variability in PM2.5 levels across 2023."
   ]
  },
  {
   "cell_type": "code",
   "execution_count": 24,
   "id": "32d7d4da-1811-43a7-80aa-d93471f98deb",
   "metadata": {},
   "outputs": [
    {
     "data": {
      "text/plain": [
       "state\n",
       "Andhra Pradesh        31.861788\n",
       "Arunachal Pradesh     14.751325\n",
       "Assam                 61.463611\n",
       "Bihar                 75.120788\n",
       "Chandigarh            39.586587\n",
       "Chhattisgarh          24.863968\n",
       "Delhi                100.613293\n",
       "Gujarat               49.954478\n",
       "Haryana               71.858425\n",
       "Himachal Pradesh            NaN\n",
       "Jammu and Kashmir     31.909474\n",
       "Jharkhand             57.042476\n",
       "Karnataka             27.604270\n",
       "Kerala                26.407500\n",
       "Madhya Pradesh        44.957182\n",
       "Maharashtra           44.668592\n",
       "Manipur                     NaN\n",
       "Meghalaya             16.579606\n",
       "Mizoram               14.323350\n",
       "Nagaland              32.389944\n",
       "Odisha                46.927677\n",
       "Puducherry            20.198304\n",
       "Punjab                49.561781\n",
       "Rajasthan             56.182164\n",
       "Sikkim                      NaN\n",
       "Tamil Nadu            29.679225\n",
       "Telangana             37.936372\n",
       "Tripura               50.124667\n",
       "Uttar Pradesh         87.086041\n",
       "Uttarakhand                 NaN\n",
       "West Bengal           55.807568\n",
       "Name: PM2.5, dtype: float64"
      ]
     },
     "execution_count": 24,
     "metadata": {},
     "output_type": "execute_result"
    }
   ],
   "source": [
    "#4.\n",
    "aq_df.loc[(aq_df['Timestamp'].dt.year == 2020) | (aq_df['Timestamp'].dt.year == 2021)].groupby('state', observed = True)['PM2.5'].mean()"
   ]
  },
  {
   "cell_type": "code",
   "execution_count": 25,
   "id": "bc6cc103-31d5-497d-9927-030094d5009c",
   "metadata": {},
   "outputs": [
    {
     "data": {
      "text/plain": [
       "'Mizoram'"
      ]
     },
     "execution_count": 25,
     "metadata": {},
     "output_type": "execute_result"
    }
   ],
   "source": [
    "aq_df.loc[(aq_df['Timestamp'].dt.year == 2020) | (aq_df['Timestamp'].dt.year == 2021)].groupby('state', observed = True)['PM2.5'].mean().idxmin()"
   ]
  },
  {
   "cell_type": "markdown",
   "id": "020e1655-895f-40a5-8c23-d1d24fc321cd",
   "metadata": {},
   "source": [
    "Mizoram had the lowest average PM2.5 levels in the covid years."
   ]
  }
 ],
 "metadata": {
  "kernelspec": {
   "display_name": "Python 3 (ipykernel)",
   "language": "python",
   "name": "python3"
  },
  "language_info": {
   "codemirror_mode": {
    "name": "ipython",
    "version": 3
   },
   "file_extension": ".py",
   "mimetype": "text/x-python",
   "name": "python",
   "nbconvert_exporter": "python",
   "pygments_lexer": "ipython3",
   "version": "3.12.3"
  }
 },
 "nbformat": 4,
 "nbformat_minor": 5
}
